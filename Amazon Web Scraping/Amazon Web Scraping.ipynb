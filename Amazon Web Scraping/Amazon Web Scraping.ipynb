{
 "cells": [
  {
   "cell_type": "markdown",
   "id": "5f761001",
   "metadata": {},
   "source": [
    "# Amazon Web Scraping Project"
   ]
  },
  {
   "cell_type": "markdown",
   "id": "5ea044da",
   "metadata": {},
   "source": [
    "### Import Required Libraries"
   ]
  },
  {
   "cell_type": "code",
   "execution_count": 24,
   "id": "10330c42",
   "metadata": {},
   "outputs": [],
   "source": [
    "from bs4 import BeautifulSoup\n",
    "import requests\n",
    "import smtplib\n",
    "import time\n",
    "import datetime"
   ]
  },
  {
   "cell_type": "markdown",
   "id": "ab3e72c0",
   "metadata": {},
   "source": [
    "### Import Headers and URL"
   ]
  },
  {
   "cell_type": "code",
   "execution_count": 29,
   "id": "e8c19a33",
   "metadata": {},
   "outputs": [],
   "source": [
    "# Load the headers and URL\n",
    "headers = {\"User-Agent\": \"Mozilla/5.0 (Windows NT 10.0; Win64; x64) AppleWebKit/537.36 (KHTML, like Gecko) Chrome/116.0.0.0 Safari/537.36\", \"Accept-Encoding\":\"gzip, deflate\", \"Accept\":\"text/html, application/xhtml+xml, application/xml;q=0.9,*/*;q=0.8\",\"DNT\":\"1\",\"Connection\":\"close\",\"Upgrade-Insecure-Requests\":\"1\"}\n",
    "URL = \"https://www.amazon.ca/s?k=ipad&i=electronics&crid=35Y80BUST4QDH&sprefix=ipad%2Celectronics%2C104&ref=nb_sb_noss_1\""
   ]
  },
  {
   "cell_type": "markdown",
   "id": "51515730",
   "metadata": {},
   "source": [
    "### Parse the amazon webpage that lists all of the products\n",
    "Note that for the purposes of the project, the search query of \"ipad\" was made. The below code parses the intial webpage containing differenting listings of available ipad options"
   ]
  },
  {
   "cell_type": "code",
   "execution_count": 30,
   "id": "b281d5f2",
   "metadata": {},
   "outputs": [
    {
     "data": {
      "text/plain": [
       "<Response [503]>"
      ]
     },
     "execution_count": 30,
     "metadata": {},
     "output_type": "execute_result"
    }
   ],
   "source": [
    "webpage = requests.get(URL, headers=headers)\n",
    "webpage"
   ]
  },
  {
   "cell_type": "code",
   "execution_count": 31,
   "id": "ded02888",
   "metadata": {},
   "outputs": [
    {
     "data": {
      "text/plain": [
       "bytes"
      ]
     },
     "execution_count": 31,
     "metadata": {},
     "output_type": "execute_result"
    }
   ],
   "source": [
    "type(webpage.content)"
   ]
  },
  {
   "cell_type": "code",
   "execution_count": 32,
   "id": "4e74ac21",
   "metadata": {},
   "outputs": [
    {
     "name": "stdout",
     "output_type": "stream",
     "text": [
      "<!DOCTYPE html>\n",
      "<html><head><meta charset=\"utf-8\"/><meta content=\"ie=edge\" http-equiv=\"x-ua-compatible\"/><meta content=\"width=device-width, initial-scale=1, shrink-to-fit=no\" name=\"viewport\"/><title>Amazon.ca Something Went Wrong / Quelque chose s'est mal passé</title><style>html,body{padding:0;margin:0}img{border:0}#a,#b{background:#232f3e;padding:11px;height:35px}#c{position:absolute;left:22px;top:12px}#e{position:relative;max-width:800px;padding:0 40px 0 171px}#f,#g{height:35px;border:0;font-size:1em}#f{width:100%;margin:0;padding:0 10px;border-radius:4px 0 0 4px}#g{cursor:pointer;background:#febd69;font-weight:bold;border-radius:0 4px 4px 0;-webkit-appearance:none;position:absolute;top:0;right:0;padding:0 12px}@media(max-width:500px){#e{padding-left:0}#b{padding:55px 10px 10px}#c{left:6px}}#h{text-align:center;margin:30px 0}#h img{max-width:90%}#d{display:none}#d[src]{display:inline}</style></head><body><form accept-charset=\"utf-8\" action=\"/s\" id=\"b\" method=\"GET\" role=\"search\"><a href=\"/\"><img alt=\"Amazon.ca\" id=\"c\" src=\"https://images-na.ssl-images-amazon.com/images/G/15/error/logo._TTD_.png\"/></a><div id=\"e\"><input id=\"f\" name=\"field-keywords\" placeholder=\"Search / Rechercher\"/><input id=\"g\" type=\"submit\" value=\"Go / Aller\"/></div></form><div id=\"h\"><div><a href=\"/\"><img alt=\"Sorry! Something went wrong. Please go back and try again or go to Amazon.ca's home page. Nous sommes désolés! Une erreur s’est produite. Veuillez s’il vous plaît retourner sur la page précédente ou accéder à la page d’accueil d’Amazon.ca.\" src=\"https://images-na.ssl-images-amazon.com/images/G/15/error/500-title._TTD_.png\"/></a></div><img alt=\"Dogs of Amazon / Chiens d'Amazon\" id=\"d\"/><script>document.getElementById(\"d\").src=\"https://images-na.ssl-images-amazon.com/images/G/15/error/\"+(Math.floor(Math.random()*200)+1)+\"._TTD_.jpg\";</script></div></body></html>\n"
     ]
    }
   ],
   "source": [
    "# Soup object containing the webpage html data\n",
    "soup = BeautifulSoup(webpage.content, \"html.parser\")\n",
    "print(soup)\n"
   ]
  },
  {
   "cell_type": "code",
   "execution_count": 22,
   "id": "ce4dfb44",
   "metadata": {},
   "outputs": [
    {
     "data": {
      "text/plain": [
       "[]"
      ]
     },
     "execution_count": 22,
     "metadata": {},
     "output_type": "execute_result"
    }
   ],
   "source": [
    "# Fetch links as list of tag objects\n",
    "links = soup.find_all(\"a\", attrs={'class':'a-link-normal s-underline-text s-underline-link-text s-link-style a-text-normal'})\n",
    "links"
   ]
  },
  {
   "cell_type": "code",
   "execution_count": 23,
   "id": "7bdd9feb",
   "metadata": {},
   "outputs": [
    {
     "ename": "IndexError",
     "evalue": "list index out of range",
     "output_type": "error",
     "traceback": [
      "\u001b[1;31m---------------------------------------------------------------------------\u001b[0m",
      "\u001b[1;31mIndexError\u001b[0m                                Traceback (most recent call last)",
      "Cell \u001b[1;32mIn[23], line 2\u001b[0m\n\u001b[0;32m      1\u001b[0m \u001b[38;5;66;03m# Provides the full link to the listing\u001b[39;00m\n\u001b[1;32m----> 2\u001b[0m link \u001b[38;5;241m=\u001b[39m \u001b[43mlinks\u001b[49m\u001b[43m[\u001b[49m\u001b[38;5;241;43m1\u001b[39;49m\u001b[43m]\u001b[49m\u001b[38;5;241m.\u001b[39mget(\u001b[38;5;124m'\u001b[39m\u001b[38;5;124mhref\u001b[39m\u001b[38;5;124m'\u001b[39m)\n\u001b[0;32m      3\u001b[0m product_list \u001b[38;5;241m=\u001b[39m \u001b[38;5;124m\"\u001b[39m\u001b[38;5;124mhttps://amazon.ca\u001b[39m\u001b[38;5;124m\"\u001b[39m\u001b[38;5;241m+\u001b[39m link\n\u001b[0;32m      4\u001b[0m \u001b[38;5;28mprint\u001b[39m(product_list)\n",
      "\u001b[1;31mIndexError\u001b[0m: list index out of range"
     ]
    }
   ],
   "source": [
    "# Provides the full link to the listing\n",
    "link = links[1].get('href')\n",
    "product_list = \"https://amazon.ca\"+ link\n",
    "print(product_list)"
   ]
  },
  {
   "cell_type": "markdown",
   "id": "90c22b2a",
   "metadata": {},
   "source": [
    "### Parse the webpage for a specific product\n",
    "For the purposes of this project, that would be the second item of the available options on the webpage "
   ]
  },
  {
   "cell_type": "code",
   "execution_count": 18,
   "id": "91d80556",
   "metadata": {},
   "outputs": [
    {
     "data": {
      "text/plain": [
       "<Response [200]>"
      ]
     },
     "execution_count": 18,
     "metadata": {},
     "output_type": "execute_result"
    }
   ],
   "source": [
    "product_webpage = requests.get(product_list, headers=headers)\n",
    "product_webpage"
   ]
  },
  {
   "cell_type": "code",
   "execution_count": 19,
   "id": "5e6784a9",
   "metadata": {},
   "outputs": [
    {
     "data": {
      "text/plain": [
       "<!DOCTYPE html>\n",
       "\n",
       "<!--[if lt IE 7]> <html lang=\"en-us\" class=\"a-no-js a-lt-ie9 a-lt-ie8 a-lt-ie7\"> <![endif]-->\n",
       "<!--[if IE 7]>    <html lang=\"en-us\" class=\"a-no-js a-lt-ie9 a-lt-ie8\"> <![endif]-->\n",
       "<!--[if IE 8]>    <html lang=\"en-us\" class=\"a-no-js a-lt-ie9\"> <![endif]-->\n",
       "<!--[if gt IE 8]><!-->\n",
       "<html class=\"a-no-js\" lang=\"en-us\"><!--<![endif]--><head>\n",
       "<meta content=\"text/html; charset=utf-8\" http-equiv=\"content-type\"/>\n",
       "<meta charset=\"utf-8\"/>\n",
       "<meta content=\"IE=edge,chrome=1\" http-equiv=\"X-UA-Compatible\"/>\n",
       "<title dir=\"ltr\">Amazon.ca</title>\n",
       "<meta content=\"width=device-width\" name=\"viewport\"/>\n",
       "<link href=\"https://images-na.ssl-images-amazon.com/images/G/01/AUIClients/AmazonUI-3c913031596ca78a3768f4e934b1cc02ce238101.secure.min._V1_.css\" rel=\"stylesheet\"/>\n",
       "<script>\n",
       "\n",
       "if (true === true) {\n",
       "    var ue_t0 = (+ new Date()),\n",
       "        ue_csm = window,\n",
       "        ue = { t0: ue_t0, d: function() { return (+new Date() - ue_t0); } },\n",
       "        ue_furl = \"fls-na.amazon.ca\",\n",
       "        ue_mid = \"A2EUQ1WTGCTBG2\",\n",
       "        ue_sid = (document.cookie.match(/session-id=([0-9-]+)/) || [])[1],\n",
       "        ue_sn = \"opfcaptcha.amazon.ca\",\n",
       "        ue_id = 'GMW4E61CNHZEPH81A5GP';\n",
       "}\n",
       "</script>\n",
       "</head>\n",
       "<body>\n",
       "<!--\n",
       "        To discuss automated access to Amazon data please contact api-services-support@amazon.com.\n",
       "        For information about migrating to our APIs refer to our Marketplace APIs at https://developer.amazonservices.ca/ref=rm_5_sv, or our Product Advertising API at https://associates.amazon.ca/gp/advertising/api/detail/main.html/ref=rm_5_ac for advertising use cases.\n",
       "-->\n",
       "<!--\n",
       "Correios.DoNotSend\n",
       "-->\n",
       "<div class=\"a-container a-padding-double-large\" style=\"min-width:350px;padding:44px 0 !important\">\n",
       "<div class=\"a-row a-spacing-double-large\" style=\"width: 350px; margin: 0 auto\">\n",
       "<div class=\"a-row a-spacing-medium a-text-center\"><i class=\"a-icon a-logo\"></i></div>\n",
       "<div class=\"a-box a-alert a-alert-info a-spacing-base\">\n",
       "<div class=\"a-box-inner\">\n",
       "<i class=\"a-icon a-icon-alert\"></i>\n",
       "<h4>Enter the characters you see below</h4>\n",
       "<p class=\"a-last\">Sorry, we just need to make sure you're not a robot. For best results, please make sure your browser is accepting cookies.</p>\n",
       "</div>\n",
       "</div>\n",
       "<div class=\"a-section\">\n",
       "<div class=\"a-box a-color-offset-background\">\n",
       "<div class=\"a-box-inner a-padding-extra-large\">\n",
       "<form action=\"/errors/validateCaptcha\" method=\"get\" name=\"\">\n",
       "<input name=\"amzn\" type=\"hidden\" value=\"WFnR7H9PI26SeZxNeMRsnQ==\"/><input name=\"amzn-r\" type=\"hidden\" value=\"/2021-Apple-10-2-inch-Wi-Fi-256GB/dp/B09G97G43H/ref=sr_1_2_sspa?crid=35Y80BUST4QDH&amp;keywords=ipad&amp;qid=1693631384&amp;s=electronics&amp;sprefix=ipad%2Celectronics%2C104&amp;sr=1-2-spons&amp;sp_csd=d2lkZ2V0TmFtZT1zcF9hdGY&amp;psc=1\"/>\n",
       "<div class=\"a-row a-spacing-large\">\n",
       "<div class=\"a-box\">\n",
       "<div class=\"a-box-inner\">\n",
       "<h4>Type the characters you see in this image:</h4>\n",
       "<div class=\"a-row a-text-center\">\n",
       "<img src=\"https://images-na.ssl-images-amazon.com/captcha/nzwwotmg/Captcha_pttuueqltg.jpg\"/>\n",
       "</div>\n",
       "<div class=\"a-row a-spacing-base\">\n",
       "<div class=\"a-row\">\n",
       "<div class=\"a-column a-span6\">\n",
       "</div>\n",
       "<div class=\"a-column a-span6 a-span-last a-text-right\">\n",
       "<a onclick=\"window.location.reload()\">Try different image</a>\n",
       "</div>\n",
       "</div>\n",
       "<input autocapitalize=\"off\" autocomplete=\"off\" autocorrect=\"off\" class=\"a-span12\" id=\"captchacharacters\" name=\"field-keywords\" placeholder=\"Type characters\" spellcheck=\"false\" type=\"text\"/>\n",
       "</div>\n",
       "</div>\n",
       "</div>\n",
       "</div>\n",
       "<div class=\"a-section a-spacing-extra-large\">\n",
       "<div class=\"a-row\">\n",
       "<span class=\"a-button a-button-primary a-span12\">\n",
       "<span class=\"a-button-inner\">\n",
       "<button class=\"a-button-text\" type=\"submit\">Continue shopping</button>\n",
       "</span>\n",
       "</span>\n",
       "</div>\n",
       "</div>\n",
       "</form>\n",
       "</div>\n",
       "</div>\n",
       "</div>\n",
       "</div>\n",
       "<div class=\"a-divider a-divider-section\"><div class=\"a-divider-inner\"></div></div>\n",
       "<div class=\"a-text-center a-spacing-small a-size-mini\">\n",
       "<a href=\"https://www.amazon.ca/gp/help/customer/display.html/ref=footer_cou?ie=UTF8&amp;nodeId=1040616\">Conditions of Use &amp; Sale</a>\n",
       "<span class=\"a-letter-space\"></span>\n",
       "<span class=\"a-letter-space\"></span>\n",
       "<span class=\"a-letter-space\"></span>\n",
       "<span class=\"a-letter-space\"></span>\n",
       "<a href=\"https://www.amazon.ca/gp/help/customer/display.html/ref=footer_privacy?ie=UTF8&amp;nodeId=502584\">Privacy Notice</a>\n",
       "</div>\n",
       "<div class=\"a-text-center a-size-mini a-color-secondary\">\n",
       "          © 1996-2015, Amazon.com, Inc. or its affiliates\n",
       "          <script>\n",
       "           if (true === true) {\n",
       "             document.write('<img src=\"https://fls-na.amaz'+'on.ca/'+'1/oc-csi/1/OP/requestId=GMW4E61CNHZEPH81A5GP&js=1\" />');\n",
       "           };\n",
       "          </script>\n",
       "<noscript>\n",
       "<img src=\"https://fls-na.amazon.ca/1/oc-csi/1/OP/requestId=GMW4E61CNHZEPH81A5GP&amp;js=0\">\n",
       "</img></noscript>\n",
       "</div>\n",
       "</div>\n",
       "<script>\n",
       "    if (true === true) {\n",
       "        var head = document.getElementsByTagName('head')[0],\n",
       "            prefix = \"https://images-na.ssl-images-amazon.com/images/G/01/csminstrumentation/\",\n",
       "            elem = document.createElement(\"script\");\n",
       "        elem.src = prefix + \"csm-captcha-instrumentation.min.js\";\n",
       "        head.appendChild(elem);\n",
       "\n",
       "        elem = document.createElement(\"script\");\n",
       "        elem.src = prefix + \"rd-script-6d68177fa6061598e9509dc4b5bdd08d.js\";\n",
       "        head.appendChild(elem);\n",
       "    }\n",
       "    </script>\n",
       "</body></html>"
      ]
     },
     "execution_count": 19,
     "metadata": {},
     "output_type": "execute_result"
    }
   ],
   "source": [
    "# Soup object containing HTML data\n",
    "product_soup = BeautifulSoup(product_webpage.content, \"html.parser\")\n",
    "product_soup"
   ]
  },
  {
   "cell_type": "markdown",
   "id": "187bc98e",
   "metadata": {},
   "source": [
    "#### Get the Product Information\n",
    "Please note: These requests no longer work due to Amazon requiring a captcha prompt. An alternate web scraping project is in the works. For all intents and purposes, I do not support illegal web scraping or data mining. This project was made as a learning opportunity, and I will work to find proper alternatives.\n",
    "\n",
    "For the purposes of continuity and creating a full project though, I have chosen to add hard-coded values to continue with the reading and writing data to a csv file."
   ]
  },
  {
   "cell_type": "code",
   "execution_count": 34,
   "id": "508116f2",
   "metadata": {},
   "outputs": [
    {
     "name": "stdout",
     "output_type": "stream",
     "text": [
      "Apple iPad (9th Generation): with A13 Bionic chip, 10.2-inch Retina Display, 256GB, Wi-Fi, 12MP front/8MP Back Camera, Touch ID, All-Day Battery Life – Silver\n",
      "$579.98\n",
      "4.8\n"
     ]
    }
   ],
   "source": [
    "\n",
    "#title = product_soup.find(\"span\", attrs={\"id\":\"productTitle\"}).get_text()\n",
    "#price = product_soup.find(\"span\",attrs = {\"class\":\"a-price a-text-price a-size-medium\"}).find(\"span\", attrs={\"class\":\"a-offscreen\"}).get_text()\n",
    "#rating = product_soup.find(\"span\", attrs={\"class\":\"a-size-base a-color-base\"}).get_text()\n",
    "\n",
    "title_full = \"Apple iPad (9th Generation): with A13 Bionic chip, 10.2-inch Retina Display, 256GB, Wi-Fi, 12MP front/8MP Back Camera, Touch ID, All-Day Battery Life – Silver\"\n",
    "price_dollars = \"$579.98\"\n",
    "rating = \"4.8\"\n",
    "print(title_full)\n",
    "print(price_dollars)\n",
    "print(rating)\n"
   ]
  },
  {
   "cell_type": "markdown",
   "id": "cf94e13b",
   "metadata": {},
   "source": [
    "#### Clean the Imported Data\n",
    "The following code would be required if the product_soup.find.get_text() requests worked."
   ]
  },
  {
   "cell_type": "code",
   "execution_count": 43,
   "id": "7ffbce77",
   "metadata": {},
   "outputs": [
    {
     "name": "stdout",
     "output_type": "stream",
     "text": [
      "579.98\n",
      "Apple iPad (9th Generation): with A13 Bionic chip, 10.2-inch Retina Display, 256GB, Wi-Fi, 12MP front/8MP Back Camera, Touch ID, All-Day Battery Life – Silver\n",
      "2023-09-02\n"
     ]
    }
   ],
   "source": [
    "price = price_dollars.strip()[1:]\n",
    "title = title_full.strip()\n",
    "today = datetime.date.today()\n",
    "\n",
    "print(price)\n",
    "print(title)\n",
    "print(today)"
   ]
  },
  {
   "cell_type": "markdown",
   "id": "2d5a4fb0",
   "metadata": {},
   "source": [
    "### Create the .csv file and write the scraped data to it"
   ]
  },
  {
   "cell_type": "code",
   "execution_count": 44,
   "id": "18aca5be",
   "metadata": {},
   "outputs": [],
   "source": [
    "# Creates the .csv file and adds the titles of the columns, as well as the first row of data scraped from above\n",
    "import csv\n",
    "header = ['Title','Price','Rating','Date']\n",
    "data = [title, price, rating, today]\n",
    "\n",
    "\n",
    "with open('AmazonProductDataset.csv', 'w', newline='',encoding='UTF8') as f:\n",
    "    writer = csv.writer(f)\n",
    "    writer.writerow(header)\n",
    "    writer.writerow(data)\n",
    "    \n"
   ]
  },
  {
   "cell_type": "code",
   "execution_count": 54,
   "id": "ffabe681",
   "metadata": {},
   "outputs": [
    {
     "data": {
      "text/html": [
       "<div>\n",
       "<style scoped>\n",
       "    .dataframe tbody tr th:only-of-type {\n",
       "        vertical-align: middle;\n",
       "    }\n",
       "\n",
       "    .dataframe tbody tr th {\n",
       "        vertical-align: top;\n",
       "    }\n",
       "\n",
       "    .dataframe thead th {\n",
       "        text-align: right;\n",
       "    }\n",
       "</style>\n",
       "<table border=\"1\" class=\"dataframe\">\n",
       "  <thead>\n",
       "    <tr style=\"text-align: right;\">\n",
       "      <th></th>\n",
       "      <th>Title</th>\n",
       "      <th>Price</th>\n",
       "      <th>Rating</th>\n",
       "      <th>Date</th>\n",
       "    </tr>\n",
       "  </thead>\n",
       "  <tbody>\n",
       "    <tr>\n",
       "      <th>0</th>\n",
       "      <td>Apple iPad (9th Generation): with A13 Bionic c...</td>\n",
       "      <td>579.98</td>\n",
       "      <td>4.8</td>\n",
       "      <td>2023-09-02</td>\n",
       "    </tr>\n",
       "  </tbody>\n",
       "</table>\n",
       "</div>"
      ],
      "text/plain": [
       "                                               Title   Price  Rating  \\\n",
       "0  Apple iPad (9th Generation): with A13 Bionic c...  579.98     4.8   \n",
       "\n",
       "         Date  \n",
       "0  2023-09-02  "
      ]
     },
     "execution_count": 54,
     "metadata": {},
     "output_type": "execute_result"
    }
   ],
   "source": [
    "# Adds the .csv file data to Pandas dataframe to make it easier to read while running the notebook\n",
    "import pandas as pd\n",
    "df = pd.read_csv(r\"C:\\Users\\asmig\\dev-projects\\ds\\Amazon Web Scraping\\AmazonProductDataset.csv\")\n",
    "df"
   ]
  },
  {
   "cell_type": "code",
   "execution_count": null,
   "id": "f0019b1c",
   "metadata": {},
   "outputs": [],
   "source": [
    "# Append new data to the .csv file\n",
    "\n",
    "with open('AmazonProductDataset.csv', 'a+', newline='',encoding='UTF8') as f:\n",
    "    writer = csv.writer(f)\n",
    "    writer.writerow(data)"
   ]
  },
  {
   "cell_type": "code",
   "execution_count": 4,
   "id": "a7926ade",
   "metadata": {},
   "outputs": [],
   "source": [
    "# Create a function to check price, which does essentially the same as all of the code written so far\n",
    "# If price drops below 400, calls the function to send an email alert to the user's inbox\n",
    "def check_price():\n",
    "    page = requests.get(product_list, headers=headers)\n",
    "    soup1 = BeautifulSoup(page.content, \"html.parser\")\n",
    "    soup2 = BeautifulSoup(soup1.prettify(),\"html.parser\")\n",
    "   \n",
    "    #title = product_soup.find(\"span\", attrs={\"id\":\"productTitle\"}).get_text()\n",
    "    #price = product_soup.find(\"span\",attrs = {\"class\":\"a-price a-text-price a-size-medium\"}).find(\"span\", attrs={\"class\":\"a-offscreen\"}).get_text()\n",
    "    #rating = product_soup.find(\"span\", attrs={\"class\":\"a-size-base a-color-base\"}).get_text()\n",
    "    title_new = \"Apple iPad (9th Generation): with A13 Bionic chip, 10.2-inch Retina Display, 256GB, Wi-Fi, 12MP front/8MP Back Camera, Touch ID, All-Day Battery Life – Silver\"\n",
    "    price_new = \"$579.98\"\n",
    "    rating_new = \"4.8\"\n",
    "    \n",
    "    price_ = price_new.strip()[1:]\n",
    "    title_ = title_new.strip()\n",
    "    \n",
    "    if (price_ < 400):\n",
    "        send_mail()\n",
    "    \n",
    "    import datetime\n",
    "    today_date = datetime.date.today()\n",
    "    \n",
    "    import csv\n",
    "    header_new = ['Title','Price','Rating','Date']\n",
    "    data_new = [title_, price_, rating_new, today_date]\n",
    "    \n",
    "    with open('AmazonProductDataset.csv', 'a+', newline='',encoding='UTF8') as f:\n",
    "        writer = csv.writer(f)\n",
    "        writer.writerow(data_new)\n",
    "\n",
    "\n"
   ]
  },
  {
   "cell_type": "code",
   "execution_count": 5,
   "id": "404c89ab",
   "metadata": {},
   "outputs": [],
   "source": [
    "# Checks the title, price and rating of the product every day (86400 seconds in one day)\n",
    "while(True):\n",
    "    check_price()\n",
    "    time.sleep(86400)\n"
   ]
  },
  {
   "cell_type": "code",
   "execution_count": 60,
   "id": "76b766cb",
   "metadata": {},
   "outputs": [
    {
     "data": {
      "text/html": [
       "<div>\n",
       "<style scoped>\n",
       "    .dataframe tbody tr th:only-of-type {\n",
       "        vertical-align: middle;\n",
       "    }\n",
       "\n",
       "    .dataframe tbody tr th {\n",
       "        vertical-align: top;\n",
       "    }\n",
       "\n",
       "    .dataframe thead th {\n",
       "        text-align: right;\n",
       "    }\n",
       "</style>\n",
       "<table border=\"1\" class=\"dataframe\">\n",
       "  <thead>\n",
       "    <tr style=\"text-align: right;\">\n",
       "      <th></th>\n",
       "      <th>Title</th>\n",
       "      <th>Price</th>\n",
       "      <th>Rating</th>\n",
       "      <th>Date</th>\n",
       "    </tr>\n",
       "  </thead>\n",
       "  <tbody>\n",
       "    <tr>\n",
       "      <th>0</th>\n",
       "      <td>Apple iPad (9th Generation): with A13 Bionic c...</td>\n",
       "      <td>579.98</td>\n",
       "      <td>4.8</td>\n",
       "      <td>2023-09-02</td>\n",
       "    </tr>\n",
       "    <tr>\n",
       "      <th>1</th>\n",
       "      <td>Apple iPad (9th Generation): with A13 Bionic c...</td>\n",
       "      <td>579.98</td>\n",
       "      <td>4.8</td>\n",
       "      <td>2023-09-02</td>\n",
       "    </tr>\n",
       "    <tr>\n",
       "      <th>2</th>\n",
       "      <td>Apple iPad (9th Generation): with A13 Bionic c...</td>\n",
       "      <td>579.98</td>\n",
       "      <td>4.8</td>\n",
       "      <td>2023-09-02</td>\n",
       "    </tr>\n",
       "    <tr>\n",
       "      <th>3</th>\n",
       "      <td>Apple iPad (9th Generation): with A13 Bionic c...</td>\n",
       "      <td>579.98</td>\n",
       "      <td>4.8</td>\n",
       "      <td>2023-09-02</td>\n",
       "    </tr>\n",
       "    <tr>\n",
       "      <th>4</th>\n",
       "      <td>Apple iPad (9th Generation): with A13 Bionic c...</td>\n",
       "      <td>579.98</td>\n",
       "      <td>4.8</td>\n",
       "      <td>2023-09-02</td>\n",
       "    </tr>\n",
       "    <tr>\n",
       "      <th>5</th>\n",
       "      <td>Apple iPad (9th Generation): with A13 Bionic c...</td>\n",
       "      <td>579.98</td>\n",
       "      <td>4.8</td>\n",
       "      <td>2023-09-02</td>\n",
       "    </tr>\n",
       "    <tr>\n",
       "      <th>6</th>\n",
       "      <td>Apple iPad (9th Generation): with A13 Bionic c...</td>\n",
       "      <td>579.98</td>\n",
       "      <td>4.8</td>\n",
       "      <td>2023-09-02</td>\n",
       "    </tr>\n",
       "  </tbody>\n",
       "</table>\n",
       "</div>"
      ],
      "text/plain": [
       "                                               Title   Price  Rating  \\\n",
       "0  Apple iPad (9th Generation): with A13 Bionic c...  579.98     4.8   \n",
       "1  Apple iPad (9th Generation): with A13 Bionic c...  579.98     4.8   \n",
       "2  Apple iPad (9th Generation): with A13 Bionic c...  579.98     4.8   \n",
       "3  Apple iPad (9th Generation): with A13 Bionic c...  579.98     4.8   \n",
       "4  Apple iPad (9th Generation): with A13 Bionic c...  579.98     4.8   \n",
       "5  Apple iPad (9th Generation): with A13 Bionic c...  579.98     4.8   \n",
       "6  Apple iPad (9th Generation): with A13 Bionic c...  579.98     4.8   \n",
       "\n",
       "         Date  \n",
       "0  2023-09-02  \n",
       "1  2023-09-02  \n",
       "2  2023-09-02  \n",
       "3  2023-09-02  \n",
       "4  2023-09-02  \n",
       "5  2023-09-02  \n",
       "6  2023-09-02  "
      ]
     },
     "execution_count": 60,
     "metadata": {},
     "output_type": "execute_result"
    }
   ],
   "source": [
    "import pandas as pd\n",
    "df_new = pd.read_csv(r\"C:\\Users\\asmig\\dev-projects\\ds\\Amazon Web Scraping\\AmazonProductDataset.csv\")\n",
    "df_new"
   ]
  },
  {
   "cell_type": "code",
   "execution_count": 28,
   "id": "0a358b2b",
   "metadata": {},
   "outputs": [],
   "source": [
    "def send_mail():\n",
    "    server = smtplib.SMTP_SSL('smtp.gmail.com', 465)\n",
    "    server.ehlo()\n",
    "    #server.starttls()\n",
    "    server.ehlo()\n",
    "    server.login('akgujral@uwaterloo.ca','XXXXXXXXXXXXXX')\n",
    "    subject = \"ALERT: The iPad you want is below $400! Now's your chance!\"\n",
    "    body = \"Quick go get it right now at\"\n",
    "    msg = f\"Subject: {subject}\\n\\n{body}\"\n",
    "    server.sendmail(\n",
    "        'akgujral@uwaterloo.ca',\n",
    "        msg\n",
    "    )"
   ]
  },
  {
   "cell_type": "code",
   "execution_count": null,
   "id": "2eed3d8c",
   "metadata": {},
   "outputs": [],
   "source": []
  }
 ],
 "metadata": {
  "kernelspec": {
   "display_name": "Python 3 (ipykernel)",
   "language": "python",
   "name": "python3"
  },
  "language_info": {
   "codemirror_mode": {
    "name": "ipython",
    "version": 3
   },
   "file_extension": ".py",
   "mimetype": "text/x-python",
   "name": "python",
   "nbconvert_exporter": "python",
   "pygments_lexer": "ipython3",
   "version": "3.10.9"
  }
 },
 "nbformat": 4,
 "nbformat_minor": 5
}
